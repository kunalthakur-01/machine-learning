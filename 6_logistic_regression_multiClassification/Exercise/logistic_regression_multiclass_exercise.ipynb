{
 "cells": [
  {
   "cell_type": "code",
   "execution_count": 45,
   "id": "2ea1fe04",
   "metadata": {},
   "outputs": [],
   "source": [
    "import pandas as pd\n",
    "from sklearn import datasets\n",
    "%matplotlib inline\n",
    "import matplotlib.pyplot as plt\n",
    "digits = load_digits()"
   ]
  },
  {
   "cell_type": "code",
   "execution_count": 46,
   "id": "58ca88a5",
   "metadata": {},
   "outputs": [
    {
     "data": {
      "text/plain": [
       "array([5.7, 2.8, 4.5, 1.3])"
      ]
     },
     "execution_count": 46,
     "metadata": {},
     "output_type": "execute_result"
    }
   ],
   "source": [
    "iris = datasets.load_iris()\n",
    "iris.data[55]"
   ]
  },
  {
   "cell_type": "code",
   "execution_count": 47,
   "id": "1e246a6e",
   "metadata": {},
   "outputs": [],
   "source": [
    "from sklearn.model_selection import train_test_split\n",
    "X_train, X_test, y_train, y_test = train_test_split(iris.data, iris.target, test_size=0.3)"
   ]
  },
  {
   "cell_type": "code",
   "execution_count": 48,
   "id": "89fc5b1b",
   "metadata": {},
   "outputs": [
    {
     "data": {
      "text/plain": [
       "(105, 4)"
      ]
     },
     "execution_count": 48,
     "metadata": {},
     "output_type": "execute_result"
    }
   ],
   "source": [
    "X_train.shape"
   ]
  },
  {
   "cell_type": "code",
   "execution_count": 49,
   "id": "610a469d",
   "metadata": {},
   "outputs": [
    {
     "data": {
      "text/plain": [
       "(45, 4)"
      ]
     },
     "execution_count": 49,
     "metadata": {},
     "output_type": "execute_result"
    }
   ],
   "source": [
    "X_test.shape"
   ]
  },
  {
   "cell_type": "code",
   "execution_count": 50,
   "id": "d5e1b8f9",
   "metadata": {},
   "outputs": [],
   "source": [
    "from sklearn.linear_model import LogisticRegression\n",
    "model = LogisticRegression()"
   ]
  },
  {
   "cell_type": "code",
   "execution_count": 51,
   "id": "9dd9975a",
   "metadata": {},
   "outputs": [
    {
     "name": "stderr",
     "output_type": "stream",
     "text": [
      "F:\\anaconda\\lib\\site-packages\\sklearn\\linear_model\\_logistic.py:814: ConvergenceWarning: lbfgs failed to converge (status=1):\n",
      "STOP: TOTAL NO. of ITERATIONS REACHED LIMIT.\n",
      "\n",
      "Increase the number of iterations (max_iter) or scale the data as shown in:\n",
      "    https://scikit-learn.org/stable/modules/preprocessing.html\n",
      "Please also refer to the documentation for alternative solver options:\n",
      "    https://scikit-learn.org/stable/modules/linear_model.html#logistic-regression\n",
      "  n_iter_i = _check_optimize_result(\n"
     ]
    },
    {
     "data": {
      "text/plain": [
       "LogisticRegression()"
      ]
     },
     "execution_count": 51,
     "metadata": {},
     "output_type": "execute_result"
    }
   ],
   "source": [
    "model.fit(X_train, y_train)"
   ]
  },
  {
   "cell_type": "code",
   "execution_count": 53,
   "id": "409a0e21",
   "metadata": {},
   "outputs": [
    {
     "data": {
      "text/plain": [
       "array([2, 2, 2, 2, 0, 0, 0, 1, 1, 1, 1, 0, 0, 2, 2, 1, 1, 0, 2, 1, 1, 0,\n",
       "       2, 1, 0, 2, 1, 1, 0, 0, 0, 2, 2, 0, 2, 0, 0, 1, 2, 0, 0, 2, 2, 2,\n",
       "       1])"
      ]
     },
     "execution_count": 53,
     "metadata": {},
     "output_type": "execute_result"
    }
   ],
   "source": [
    "y_predicted = model.predict(X_test)\n",
    "y_predicted"
   ]
  },
  {
   "cell_type": "code",
   "execution_count": 55,
   "id": "aa35d2f4",
   "metadata": {},
   "outputs": [
    {
     "data": {
      "text/plain": [
       "array([[1.46797318e-04, 1.56582532e-01, 8.43270670e-01],\n",
       "       [1.17082278e-05, 1.52213793e-02, 9.84766912e-01],\n",
       "       [1.99146031e-05, 2.72941682e-02, 9.72685917e-01],\n",
       "       [2.11455946e-06, 7.36033054e-03, 9.92637555e-01],\n",
       "       [9.85755465e-01, 1.42444764e-02, 5.82852285e-08],\n",
       "       [9.41643817e-01, 5.83557623e-02, 4.21210322e-07],\n",
       "       [9.56349265e-01, 4.36493580e-02, 1.37710207e-06],\n",
       "       [1.72209673e-02, 7.08713283e-01, 2.74065750e-01],\n",
       "       [4.09317086e-02, 8.98380413e-01, 6.06878782e-02],\n",
       "       [3.41102909e-02, 9.46956824e-01, 1.89328854e-02],\n",
       "       [1.41053827e-02, 8.92068441e-01, 9.38261768e-02],\n",
       "       [9.85241068e-01, 1.47588615e-02, 7.02794643e-08],\n",
       "       [9.89733228e-01, 1.02667464e-02, 2.55829797e-08],\n",
       "       [1.70862664e-04, 1.44271719e-01, 8.55557418e-01],\n",
       "       [5.76474347e-04, 3.26571614e-01, 6.72851912e-01],\n",
       "       [1.10633795e-03, 5.05229097e-01, 4.93664565e-01],\n",
       "       [1.88779012e-01, 8.07007806e-01, 4.21318250e-03],\n",
       "       [9.82800195e-01, 1.71997166e-02, 8.88844321e-08],\n",
       "       [2.09022585e-06, 2.28550533e-02, 9.77142856e-01],\n",
       "       [9.16200898e-03, 8.26478915e-01, 1.64359076e-01],\n",
       "       [7.95971541e-03, 9.09605185e-01, 8.24350992e-02],\n",
       "       [9.65403507e-01, 3.45959498e-02, 5.42971067e-07],\n",
       "       [3.03940682e-03, 4.33853107e-01, 5.63107486e-01],\n",
       "       [3.58862284e-02, 9.41153181e-01, 2.29605909e-02],\n",
       "       [9.54464406e-01, 4.55353474e-02, 2.46556483e-07],\n",
       "       [6.23392189e-04, 2.00187454e-01, 7.99189154e-01],\n",
       "       [9.16719483e-04, 5.75444505e-01, 4.23638776e-01],\n",
       "       [2.91164982e-01, 7.06787209e-01, 2.04780866e-03],\n",
       "       [9.70890043e-01, 2.91096891e-02, 2.67759430e-07],\n",
       "       [9.77155130e-01, 2.28447300e-02, 1.40014897e-07],\n",
       "       [9.67918873e-01, 3.20809420e-02, 1.84659304e-07],\n",
       "       [1.27391990e-04, 5.96593227e-02, 9.40213285e-01],\n",
       "       [4.51847139e-06, 5.68451471e-02, 9.43150334e-01],\n",
       "       [9.69391685e-01, 3.06075098e-02, 8.05235973e-07],\n",
       "       [4.06901588e-03, 4.03997316e-01, 5.91933668e-01],\n",
       "       [9.73264686e-01, 2.67351894e-02, 1.25023829e-07],\n",
       "       [9.68686076e-01, 3.13137523e-02, 1.72035601e-07],\n",
       "       [1.08168483e-03, 5.28677102e-01, 4.70241213e-01],\n",
       "       [1.71810117e-05, 3.17556045e-02, 9.68227215e-01],\n",
       "       [9.61857649e-01, 3.81421159e-02, 2.35076325e-07],\n",
       "       [9.79981972e-01, 2.00179735e-02, 5.49056574e-08],\n",
       "       [1.01684626e-04, 1.14542020e-01, 8.85356295e-01],\n",
       "       [3.13317975e-05, 1.91907753e-02, 9.80777893e-01],\n",
       "       [8.98735658e-06, 4.11348543e-02, 9.58856158e-01],\n",
       "       [2.43493818e-02, 9.42782011e-01, 3.28686071e-02]])"
      ]
     },
     "execution_count": 55,
     "metadata": {},
     "output_type": "execute_result"
    }
   ],
   "source": [
    "model.predict_proba(X_test)"
   ]
  },
  {
   "cell_type": "code",
   "execution_count": null,
   "id": "023b7f7f",
   "metadata": {},
   "outputs": [],
   "source": []
  }
 ],
 "metadata": {
  "kernelspec": {
   "display_name": "Python 3 (ipykernel)",
   "language": "python",
   "name": "python3"
  },
  "language_info": {
   "codemirror_mode": {
    "name": "ipython",
    "version": 3
   },
   "file_extension": ".py",
   "mimetype": "text/x-python",
   "name": "python",
   "nbconvert_exporter": "python",
   "pygments_lexer": "ipython3",
   "version": "3.9.13"
  }
 },
 "nbformat": 4,
 "nbformat_minor": 5
}
